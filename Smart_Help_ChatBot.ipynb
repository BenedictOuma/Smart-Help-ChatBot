{
  "cells": [
    {
      "cell_type": "markdown",
      "metadata": {
        "id": "1_tuTQhuuJez"
      },
      "source": [
        "# ***Smart Help ChatBot***"
      ]
    },
    {
      "cell_type": "code",
      "execution_count": null,
      "metadata": {
        "colab": {
          "base_uri": "https://localhost:8080/"
        },
        "id": "3kkc1AuiuHYp",
        "outputId": "a15ac0cb-54b0-45a3-98e5-c1217933f739"
      },
      "outputs": [
        {
          "name": "stdout",
          "output_type": "stream",
          "text": [
            "Welcome to our Customer Service Assistant!\n",
            "May I have your name, please? Benedict\n",
            "Hi Benedict, How may I help you today?\n",
            "To exit at any time, simply type exit, bye, or quit.\n",
            "\n",
            "You: exit\n",
            "Customer Service: Bye, thanks for reaching out! Have a great day.\n"
          ]
        }
      ],
      "source": [
        "#Defines the dictionary of responses and the function to fetch the bot's response\n",
        "def process_user_query(user_message):\n",
        "    user_input = user_message.lower().strip() #This makes input case-insensitive and clean (converts to lower case, and ignores spaces before and after the user input)\n",
        "\n",
        "    if any(word in user_input for word in [\"hi\", \"hello\", \"hey\", \"howdy\"]):\n",
        "      return \"Hi there! How may I help you?\"\n",
        "    elif \"can i know my order status\" in user_input:\n",
        "      return \"Please provide your order number so I can check and update you on your order status.\"\n",
        "    elif \"how long does the shipping process take\" in user_input:\n",
        "      return \"Standard shipping process takes 2 to 6 business days depending on the delivery location.\"\n",
        "    elif \"the delivery for my order ought to have been done by now then\" in user_input:\n",
        "      return \"Please contact our customer support.\"\n",
        "    elif \"how can i contact customer support\" in user_input:\n",
        "      return \"You can reach our support team at clientcare.usiworry@foryou.com.\"\n",
        "    elif \"how do i request for a refund\" in user_input:\n",
        "      return \"To request a refund, please visit our returns page.\"\n",
        "    elif \"can i change my shipping address\" in user_input:\n",
        "      return \"To change the shipping address, kindly update it in your profile before the order is processed.\"\n",
        "    elif \"can i cancel my order\" in user_input:\n",
        "      return \"Yes, you can. To cancel an order, please login to your account and go to your orders section. This can only be done before the shipping process begins.\"\n",
        "    elif \"thank you\" in user_input:\n",
        "      return \"You're welcome! If you have any more questions, feel free to ask.\"\n",
        "    else:\n",
        "      return \"I'm sorry, I don't understand that. Could you please rephrase?\"\n",
        "\n",
        "#Function to greet the user\n",
        "def greet_user():\n",
        "    print(\"Welcome to our Customer Service Assistant!\")\n",
        "    name = input(\"May I have your name, please? \")\n",
        "    print(f\"Hi {name}, How may I help you today?\")\n",
        "    print(\"To exit at any time, simply type exit, bye, or quit.\\n\")\n",
        "\n",
        "#Start the chatbot\n",
        "greet_user()\n",
        "\n",
        "while True:\n",
        "    user_input = input(\"You: \")\n",
        "\n",
        "    if user_input.lower().strip() in [\"exit\", \"bye\", \"quit\"]:\n",
        "        print(\"Customer Service: Bye, thanks for reaching out! Have a great day.\")\n",
        "        break\n",
        "\n",
        "    bot_reply = process_user_query(user_input)\n",
        "    print(\"Customer Service:\", bot_reply)\n",
        "    print(\"Type exit, bye, or quit to leave the chat.\\n\")"
      ]
    },
    {
      "cell_type": "code",
      "execution_count": null,
      "metadata": {
        "colab": {
          "base_uri": "https://localhost:8080/"
        },
        "id": "Js36vTI6X4aY",
        "outputId": "3b98d438-20ca-49f6-adf1-7e7dc8ffb82b"
      },
      "outputs": [
        {
          "name": "stdout",
          "output_type": "stream",
          "text": [
            "Welcome to our Customer Service Assistant!\n",
            "May I have your name, please? Benedict\n",
            "Hi Benedict, How may I help you today?\n",
            "To exit at any time, simply type exit, bye, or quit.\n",
            "\n",
            "You: how do i request for a refund\n",
            "Customer Service: To request a refund, please visit our returns page.\n",
            "Type exit, bye, or quit to leave the chat.\n",
            "\n",
            "You: bye\n",
            "Customer Service: Bye, thanks for reaching out! Have a great day.\n"
          ]
        }
      ],
      "source": [
        "#Function to greet the user\n",
        "def greeting_user():\n",
        "    print(\"Welcome to our Customer Service Assistant!\")\n",
        "    name = input(\"May I have your name, please? \")\n",
        "    print(f\"Hi {name}, How may I help you today?\")\n",
        "    print(\"To exit at any time, simply type exit, bye, or quit.\\n\")\n",
        "\n",
        "#Defines the dictionary of responses and the function to fetch the bot's response\n",
        "def processing_user_query(user_message):\n",
        "    user_input = user_message.lower().strip() #This makes input case-insensitive and clean (converts to lower case, and ignores spaces before and after the user input)\n",
        "\n",
        "    if any(word in user_input for word in [\"hi\", \"hello\", \"hey\", \"howdy\"]):\n",
        "      return \"Hi there! How may I help you?\"\n",
        "    elif \"can i know my order status\" in user_input:\n",
        "      return \"Please provide your order number so I can check and update you on your order status.\"\n",
        "    elif \"how long does the shipping process take\" in user_input:\n",
        "      return \"Standard shipping process takes 2 to 6 business days depending on the delivery location.\"\n",
        "    elif \"the delivery for my order ought to have been done by now then\" in user_input:\n",
        "      return \"Please contact our customer support.\"\n",
        "    elif \"how can i contact customer support\" in user_input:\n",
        "      return \"You can reach our support team at clientcare.usiworry@foryou.com.\"\n",
        "    elif \"how do i request for a refund\" in user_input:\n",
        "      return \"To request a refund, please visit our returns page.\"\n",
        "    elif \"can i change my shipping address\" in user_input:\n",
        "      return \"To change the shipping address, kindly update it in your profile before the order is processed.\"\n",
        "    elif \"can i cancel my order\" in user_input:\n",
        "      return \"Yes, you can. To cancel an order, please login to your account and go to your orders section. This can only be done before the shipping process begins.\"\n",
        "    elif \"thank you\" in user_input:\n",
        "      return \"You're welcome! If you have any more questions, feel free to ask.\"\n",
        "    else:\n",
        "      return \"I'm sorry, I don't understand that. Could you please rephrase?\"\n",
        "\n",
        "#Start the chatbot\n",
        "greeting_user()\n",
        "\n",
        "while True:\n",
        "    user_input = input(\"You: \")\n",
        "\n",
        "    if user_input.lower().strip() in [\"exit\", \"bye\", \"quit\"]:\n",
        "        print(\"Customer Service: Bye, thanks for reaching out! Have a great day.\")\n",
        "        break\n",
        "\n",
        "    bot_reply = processing_user_query(user_input)\n",
        "    print(\"Customer Service:\", bot_reply)\n",
        "    print(\"Type exit, bye, or quit to leave the chat.\\n\")"
      ]
    },
    {
      "cell_type": "code",
      "execution_count": null,
      "metadata": {
        "colab": {
          "base_uri": "https://localhost:8080/"
        },
        "id": "CwzGJhHHwbCs",
        "outputId": "affcda2e-c62f-4b5f-eb0d-285b0665de09"
      },
      "outputs": [
        {
          "name": "stdout",
          "output_type": "stream",
          "text": [
            "May I know your name? exit\n",
            "Hi exit, Welcome to SmartHelp Support Chatbot! You can ask about orders, refunds, shipping, etc. How can I assist you today?\n",
            "Please type 'help' to see topics I can assist with, 'history' to see your past messages, and 'quit' to exit anytime.\n",
            "\n",
            "\n",
            "You: where are you located\n",
            "Bot: Our office is located on Moi Avenue, Nairobi.\n",
            "\n",
            "You: bye\n",
            "Bot: Thank you for chatting with us, exit. Nice time!\n"
          ]
        }
      ],
      "source": [
        "#1.Welcome Function\n",
        "def greet_user():\n",
        "    name = input(\"May I know your name? \")\n",
        "    print(f\"Hi {name}, Welcome to SmartHelp Support Chatbot! You can ask about orders, refunds, shipping, etc. How can I assist you today?\")\n",
        "    print(\"Please type 'help' to see topics I can assist with, 'history' to see your past messages, and 'quit' to exit anytime.\\n\")\n",
        "    return name\n",
        "\n",
        "#2.Knowledge Base\n",
        "responses = {\n",
        "    \"what are your working hours\": \"Our working hours are 9 AM to 6 PM, Monday to Friday.\",\n",
        "    \"how do i request a refund\": \"You can request a refund by visiting our returns page.\",\n",
        "    \"can i change my shipping address\": \"Yes, you can change it from your profile before the order is shipped.\",\n",
        "    \"how can i contact support\": \"You can reach us at support@smarthelp.com.\",\n",
        "    \"how can i reset my password\": \"To reset your password, click on 'Forgot Password' on the login screen.\",\n",
        "    \"what services do you offer\": \"We offer IT support, software training, and system consultations.\",\n",
        "    \"where are you located\": \"Our office is located on Moi Avenue, Nairobi.\",\n",
        "    \"how much do you charge for training\": \"Training costs depend on the package. Please email us at training@smarthelp.com.\",\n",
        "    \"how do i speak to a representative\": \"You can reach our support team at +254-700-000-000 or email help@smarthelp.com.\"\n",
        "}\n",
        "\n",
        "#3.List of accepted greetings\n",
        "greetings = [\"hi\", \"hello\", \"hey\", \"howdy\", \"greetings\"]\n",
        "\n",
        "# 4.Store chat history\n",
        "chat_history = []\n",
        "\n",
        "# 5.Get Response Function\n",
        "def get_response(user_input):\n",
        "    user_input = user_input.lower().strip()\n",
        "    chat_history.append(f\"You: {user_input}\")\n",
        "\n",
        "    if user_input in greetings:\n",
        "        response = \"Hi there! How can I assist you today?\"\n",
        "    elif user_input in responses:\n",
        "        response = responses[user_input]\n",
        "    elif user_input == \"help\":\n",
        "        response = \"Here are some things you can ask about:\"\n",
        "        for key in responses:\n",
        "            print(f\" - {key}\")\n",
        "        return\n",
        "    elif user_input == \"history\":\n",
        "        print(\"\\n Chat History:\")\n",
        "        for message in chat_history:\n",
        "            print(message)\n",
        "        return\n",
        "    else:\n",
        "        response = \"I'm sorry, I didn't understand that. Try typing 'help' to see valid questions.\"\n",
        "\n",
        "    print(\"Bot:\", response)\n",
        "    chat_history.append(f\"Bot: {response}\")\n",
        "\n",
        "#6.Using map, filter, lambda\n",
        "def preprocess_example_inputs():\n",
        "    example_inputs = [\n",
        "       \"hi\", \"what are your working hours\", \"how do i request a refund\", \"can i change my shipping address\",\n",
        "        \"how can i contact support\", \"how can i reset my password\", \"what services do you offer\",\n",
        "        \"where are you located\", \"how much do you charge for training\", \"how do i speak to a representative\"\n",
        "    ]\n",
        "\n",
        "    #Convert all to lowercase\n",
        "    lowercase_inputs = list(map(lambda x: x.lower(), example_inputs))\n",
        "\n",
        "    #Filter valid questions using lambda\n",
        "    valid_inputs = list(filter(lambda x: x.lower() in responses or x.lower() in greetings, lowercase_inputs))\n",
        "\n",
        "#7. Organize and Run Chatbot\n",
        "def run_chatbot():\n",
        "    name = greet_user()\n",
        "    preprocess_example_inputs()\n",
        "\n",
        "    while True:\n",
        "        user_input = input(\"\\nYou: \").lower().strip()\n",
        "\n",
        "        if user_input in [\"exit\", \"bye\", \"quit\"]:\n",
        "            print(f\"Bot: Thank you for chatting with us, {name}. Nice time!\")\n",
        "            break\n",
        "\n",
        "        get_response(user_input)\n",
        "\n",
        "#Run the chatbot\n",
        "run_chatbot()"
      ]
    },
    {
      "cell_type": "code",
      "execution_count": null,
      "metadata": {
        "id": "nIVVa1cKwgAT"
      },
      "outputs": [],
      "source": []
    }
  ],
  "metadata": {
    "colab": {
      "provenance": []
    },
    "kernelspec": {
      "display_name": "Python 3",
      "name": "python3"
    },
    "language_info": {
      "name": "python"
    }
  },
  "nbformat": 4,
  "nbformat_minor": 0
}
